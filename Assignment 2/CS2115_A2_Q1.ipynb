{
  "nbformat": 4,
  "nbformat_minor": 0,
  "metadata": {
    "colab": {
      "provenance": [],
      "collapsed_sections": []
    },
    "kernelspec": {
      "name": "python3",
      "display_name": "Python 3"
    },
    "language_info": {
      "name": "python"
    }
  },
  "cells": [
    {
      "cell_type": "code",
      "execution_count": 1,
      "metadata": {
        "id": "NS034_W5JMsQ"
      },
      "outputs": [],
      "source": [
        "import numpy as np\n",
        "import matplotlib.pyplot as plt\n",
        "import random"
      ]
    },
    {
      "cell_type": "code",
      "source": [
        "arr = np.zeros((10, 10), dtype = np.float64)\n",
        "arr[0] = arr[8] = arr[9] = 0\n",
        "for i in range(1, 7):\n",
        "  arr[0, i] = 1\n",
        "  arr[1, i] = 1\n",
        "for i in range(2, 7):\n",
        "  arr[2, i] = 1\n",
        "  arr[3, i] = 1\n",
        "  arr[4, i] = 1\n",
        "for i in range (5, 8):\n",
        "  arr[6, i] = 1\n",
        "for i in range(2, 8):\n",
        "  arr[7, i] = 1\n",
        "  arr[8, i] = 1\n",
        "  arr[9, i] = 1\n",
        "\n",
        "fig = plt.figure(figsize=(6, 6))\n",
        "plt.imshow(arr, cmap = 'gray')"
      ],
      "metadata": {
        "colab": {
          "base_uri": "https://localhost:8080/",
          "height": 391
        },
        "id": "NYxbXrMgFxYU",
        "outputId": "d28a39ab-0016-4ef3-e382-bbcc8bc193a5"
      },
      "execution_count": 2,
      "outputs": [
        {
          "output_type": "execute_result",
          "data": {
            "text/plain": [
              "<matplotlib.image.AxesImage at 0x7f5b8579f8d0>"
            ]
          },
          "metadata": {},
          "execution_count": 2
        },
        {
          "output_type": "display_data",
          "data": {
            "text/plain": [
              "<Figure size 432x432 with 1 Axes>"
            ],
            "image/png": "[encoded data removed]"
          },
          "metadata": {
            "needs_background": "light"
          }
        }
      ]
    },
    {
      "cell_type": "markdown",
      "source": [
        "**Connected Component Labelling in binary images** (Assume 4-connectivity):\n",
        "```\n",
        "r: top neighbor of pixel p\n",
        "t: left neighbor of pixel p\n",
        "m: no. of rows\n",
        "n: no. of columns\n",
        "Algorithm connected_component_labelling():\n",
        "{\n",
        "for i := 1 to m do\n",
        "    for j :=1 to n do\n",
        "    if intensity(p) = 1 and (intensity(r) = intensity(t) = 0) then:\n",
        "         Assign a new label to pixel p\n",
        "    if intensity(p) = 1 and only one of its two neighbors are 1 then:\n",
        "        Assign the label of the neighbor with an intensity of 1 to pixel p\n",
        "    if intensity(p) = 1 and (intensity(r) = intensity(t) = 1) then:\n",
        "             if (label(r) = label(t)) then:\n",
        "                  set label of pixel p to the label(t)\n",
        "             else:\n",
        "                assign any one of the two labels to pixel p and mark both the  labels equivalent\n",
        "}\n",
        "```"
      ],
      "metadata": {
        "id": "zZWSliTbzTNZ"
      }
    },
    {
      "cell_type": "code",
      "source": [
        "label = 0  # Variable to assign labels\n",
        "equi_pairs=[] # List of equivalent label pairs\n",
        "label_mat = np.zeros(arr.shape) # 2D matrix to store labels corresponding to the (i,j)th pixel in arr\n",
        "for j in range(arr.shape[1]):\n",
        "  if arr[0][j]==1:\n",
        "    if arr[0][j - 1] == 1:\n",
        "      label_mat[0][j] = label_mat[0][j - 1]\n",
        "    else:\n",
        "      label = label + 1\n",
        "      label_mat[0][j] = label\n",
        "\n",
        "for i in range(arr.shape[0]):\n",
        "  if arr[i][0]==1:\n",
        "    if arr[i - 1][0] == 1:\n",
        "      label_mat[i][0] = label_mat[i - 1][0]\n",
        "    else:\n",
        "      label = label + 1\n",
        "      label_mat[i][0] = label\n",
        "\n",
        "for i in range(1, arr.shape[0]):\n",
        "  for j in range(1, arr.shape[1]):\n",
        "    if arr[i][j] == 1 and arr[i-1][j] == 0 and arr[i][j-1] == 0: #If top and left pixel of (i,j) is 0\n",
        "      label = label + 1\n",
        "      label_mat[i][j] = label     # Assign a new label to (i,j)\n",
        "\n",
        "    if (arr[i][j] == 1 and arr[i-1][j] == 1 and arr[i][j-1] == 0) or \\\n",
        "        (arr[i][j] == 1 and arr[i-1][j] == 0 and arr[i][j-1] == 1): #If either of the top and right pixel of (i,j) is 1\n",
        "      if arr[i-1][j] == 1:\n",
        "        label_mat[i][j] = label_mat[i-1][j]\n",
        "      else:\n",
        "        label_mat[i][j] = label_mat[i][j-1]\n",
        "\n",
        "    if arr[i][j] == 1 and arr[i-1][j] == 1 and arr[i][j-1] == 1: #If both top and right pixel of (i,j) is 1\n",
        "      if label_mat[i-1][j] == label_mat[i][j-1]: # If both top and right pixels have the same label\n",
        "        label_mat[i][j] = label_mat[i][j-1]\n",
        "      else:\n",
        "        label_mat[i][j] = label_mat[i][j-1]\n",
        "        x = label_mat[i-1][j]\n",
        "        y = label_mat[i][j-1]\n",
        "        equi_pairs.append((x,y))\n",
        "\n",
        "fig = plt.figure(figsize=(6, 6))\n",
        "plt.imshow(label_mat,cmap=\"gray\")\n",
        "plt.show()"
      ],
      "metadata": {
        "id": "HkA8QAAKFsMJ",
        "outputId": "39d660f4-db5b-4d3d-8347-0a22e492080e",
        "colab": {
          "base_uri": "https://localhost:8080/",
          "height": 374
        }
      },
      "execution_count": 3,
      "outputs": [
        {
          "output_type": "display_data",
          "data": {
            "text/plain": [
              "<Figure size 432x432 with 1 Axes>"
            ],
            "image/png": "[encoded data removed]"
          },
          "metadata": {
            "needs_background": "light"
          }
        }
      ]
    },
    {
      "cell_type": "code",
      "source": [
        "equiv_classes=[] # To store equivalent labels\n",
        "if len(equi_pairs) != 0:\n",
        "  item = equi_pairs[0]\n",
        "  class1 = list(item)\n",
        "  equiv_classes.append(class1)\n",
        "  #print(equiv_classes)\n",
        "  for i in range(1,len(equi_pairs)):\n",
        "    item = equi_pairs[i]\n",
        "    flag = 0\n",
        "    for j in range(len(equiv_classes)):\n",
        "      k = equiv_classes[j]\n",
        "      if(item[0] not in k) and (item[1] in k):\n",
        "        equiv_classes[j].append(item[0])\n",
        "        flag = 1\n",
        "        break\n",
        "      if(item[0] in k) and (item[1] not in k):\n",
        "        equiv_classes[j].append(item[1])\n",
        "        flag = 1\n",
        "        break\n",
        "    if flag==0:\n",
        "      equiv_classes.append(list(item))\n",
        "#print(equiv_classes)\n",
        "\n",
        "# Creating final labelled component matrix\n",
        "for i in  range(label_mat.shape[0]):\n",
        "  for j in range(label_mat.shape[1]):\n",
        "    for k in equiv_classes:\n",
        "      if label_mat[i][j] in k:\n",
        "        label_mat[i][j] = k[0]\n",
        "\n",
        "fig = plt.figure(figsize=(6, 6))\n",
        "plt.imshow(label_mat,cmap=\"gray\")\n",
        "plt.show()"
      ],
      "metadata": {
        "id": "7VE-T-e1FsOn",
        "outputId": "31daeac1-affb-4fc8-bf4b-e3f52b0d9e28",
        "colab": {
          "base_uri": "https://localhost:8080/",
          "height": 374
        }
      },
      "execution_count": 4,
      "outputs": [
        {
          "output_type": "display_data",
          "data": {
            "text/plain": [
              "<Figure size 432x432 with 1 Axes>"
            ],
            "image/png": "[encoded data removed]"
          },
          "metadata": {
            "needs_background": "light"
          }
        }
      ]
    },
    {
      "cell_type": "markdown",
      "source": [
        "**Perimeter of each of the identified component**\n",
        "\n",
        "The boundary (sometime referred as inner border of the region) of a region R is the set of pixels in R that are adjacent to pixels in the complement of R. Perimeter is the length of that boundary.\n",
        "```\n",
        "m : number of row\n",
        "n : number of colunn\n",
        "peri : image that contain boundary of different region (initialize with 0)\n",
        "label_mat : label matrix that label the different connected component (geting from above algorithm)\n",
        "perimrter():\n",
        "{\n",
        "  for i := 1 to n do\n",
        "    if intensity(label_mat[0,i] not 0 then:\n",
        "      peri[0,i] = label_mat[0,i]\n",
        "    if intensity(label_mat[m,i]) not 0 then:\n",
        "      peri[m,i] = label_mat[m,i]\n",
        "\n",
        "  for i := 1 to n do\n",
        "    if intensity(label_mat[i,0] not 0 then:\n",
        "      peri[i,0] = label_mat[i,0]\n",
        "    if intensity(label_mat[i,n]) not 0 then:\n",
        "      peri[i,n] = label_mat[i,n]\n",
        "\n",
        "  for i := 2 to m-1 do\n",
        "    for j := 2 to n-1 do\n",
        "      if label_mat[i,j] is not 0 then:\n",
        "        if (label_mat[i-1,j] is 0) or (label_mat[i+1,j] is 0) or (label_mat[i,j-1] is 0) or (label_mat[i,j+1] is 0) then:\n",
        "          peri[i,j] = label_mat[i,j]\n",
        "  \n",
        "  dist_col := number of distinct non-zero value present in peri\n",
        "\n",
        "  for item in dist_col do\n",
        "    count = 0\n",
        "    for i := 1 to m do\n",
        "      for j :=1 to n do\n",
        "        if peri[i,j] == item then:\n",
        "          count += 1\n",
        "    print('Perimeter of the region with intensity', int(item), 'is: ', count)\n",
        "}\n",
        "```\n"
      ],
      "metadata": {
        "id": "SgHvGX3oTNh4"
      }
    },
    {
      "cell_type": "code",
      "source": [
        "peri = np.zeros(arr.shape)\n",
        "\n",
        "for j in range(arr.shape[1]):\n",
        "  if label_mat[0,j] != 0:\n",
        "    peri[0,j] = label_mat[0,j]\n",
        "  if label_mat[arr.shape[1]-1,j] != 0:\n",
        "    peri[arr.shape[1]-1,j] = label_mat[arr.shape[1]-1,j]\n",
        "\n",
        "for i in range(arr.shape[0]):\n",
        "  if label_mat[i,0] != 0:\n",
        "    peri[i,0] = label_mat[i,0]\n",
        "  if label_mat[i,arr.shape[0]-1] != 0:\n",
        "    peri[i,arr.shape[0]-1] = label_mat[i,arr.shape[0]-1]\n",
        "\n",
        "for i in range(1,arr.shape[0]-1):\n",
        "  for j in range(1,arr.shape[1]-1):\n",
        "    if label_mat[i,j] != 0:\n",
        "      if label_mat[i-1,j]==0 or label_mat[i+1,j]==0 or label_mat[i,j-1] == 0 or label_mat[i,j+1] == 0:\n",
        "        peri[i,j] = label_mat[i,j]\n",
        "\n",
        "fig = plt.figure(figsize=(6, 6))\n",
        "plt.imshow(peri, cmap='gray')\n",
        "plt.show()\n",
        "print()\n",
        "dist_col = set(peri.flatten()) - {0.0}\n",
        "\n",
        "for item in dist_col:\n",
        "  count = 0\n",
        "  for i in range(peri.shape[0]):\n",
        "    for j in range(peri.shape[1]):\n",
        "      if peri[i,j] == item:\n",
        "        count += 1\n",
        "  print('Perimeter of the region with intensity', int(item), 'is: ', count)"
      ],
      "metadata": {
        "id": "4IIu8oebFsQ9",
        "outputId": "d3cdf71f-1ea1-4eaf-e786-665e39df4a0c",
        "colab": {
          "base_uri": "https://localhost:8080/",
          "height": 426
        }
      },
      "execution_count": 5,
      "outputs": [
        {
          "output_type": "display_data",
          "data": {
            "text/plain": [
              "<Figure size 432x432 with 1 Axes>"
            ],
            "image/png": "[encoded data removed]"
          },
          "metadata": {
            "needs_background": "light"
          }
        },
        {
          "output_type": "stream",
          "name": "stdout",
          "text": [
            "\n",
            "Perimeter of the region with intensity 1 is:  17\n",
            "Perimeter of the region with intensity 2 is:  15\n"
          ]
        }
      ]
    },
    {
      "cell_type": "code",
      "source": [],
      "metadata": {
        "id": "sA-sk-imFslC"
      },
      "execution_count": null,
      "outputs": []
    }
  ]
}