{
 "cells": [
  {
   "cell_type": "code",
   "execution_count": 1,
   "id": "f8f42c54",
   "metadata": {},
   "outputs": [
    {
     "name": "stdout",
     "output_type": "stream",
     "text": [
      "Enter dimension of matrix: 3\n",
      "Enter matrix: \n",
      "1 2 3\n",
      "4 5 6\n",
      "7 8 9\n"
     ]
    }
   ],
   "source": [
    "n = int(input('Enter dimension of matrix: ')) \n",
    "a = []\n",
    "print('Enter matrix: ')\n",
    "for i in range(n):\n",
    "    a.append(list(map(int,input().split())))"
   ]
  },
  {
   "cell_type": "code",
   "execution_count": 2,
   "id": "5ebe53de",
   "metadata": {},
   "outputs": [],
   "source": [
    "B = [[a[j][i] for j in range(len(a))] for i in range(len(a[0]))]"
   ]
  },
  {
   "cell_type": "code",
   "execution_count": 3,
   "id": "8b5b5092",
   "metadata": {},
   "outputs": [
    {
     "name": "stdout",
     "output_type": "stream",
     "text": [
      "Swap about its principal diagonal:\n",
      "\n",
      "[1, 4, 7]\n",
      "[2, 5, 8]\n",
      "[3, 6, 9]\n"
     ]
    }
   ],
   "source": [
    "print('Swap about its principal diagonal:\\n')\n",
    "for item in B:\n",
    "    print(item)"
   ]
  },
  {
   "cell_type": "code",
   "execution_count": null,
   "id": "ad89c6b4",
   "metadata": {},
   "outputs": [],
   "source": []
  }
 ],
 "metadata": {
  "kernelspec": {
   "display_name": "Python 3 (ipykernel)",
   "language": "python",
   "name": "python3"
  },
  "language_info": {
   "codemirror_mode": {
    "name": "ipython",
    "version": 3
   },
   "file_extension": ".py",
   "mimetype": "text/x-python",
   "name": "python",
   "nbconvert_exporter": "python",
   "pygments_lexer": "ipython3",
   "version": "3.10.2"
  }
 },
 "nbformat": 4,
 "nbformat_minor": 5
}
