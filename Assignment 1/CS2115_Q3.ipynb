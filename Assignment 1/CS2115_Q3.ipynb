{
 "cells": [
  {
   "cell_type": "code",
   "execution_count": 1,
   "metadata": {},
   "outputs": [
    {
     "name": "stdout",
     "output_type": "stream",
     "text": [
      "Start timestamp: 20-03-2022 20:15:36\n",
      "End timestamp: 21-04-2022 02:14:37\n"
     ]
    }
   ],
   "source": [
    "from datetime import datetime\n",
    "import math\n",
    "\n",
    "date_time1 =input('Start timestamp: ')\n",
    "date_time2 =input('End timestamp: ')"
   ]
  },
  {
   "cell_type": "code",
   "execution_count": 2,
   "metadata": {},
   "outputs": [],
   "source": [
    "datetime_object1 = datetime.strptime(date_time1, '%d-%m-%Y %H:%M:%S')\n",
    "datetime_object2 = datetime.strptime(date_time2, '%d-%m-%Y %H:%M:%S')\n",
    "\n",
    "\n",
    "res = datetime_object2-datetime_object1\n",
    "days = res.days\n",
    "hours=math.ceil(res.seconds/3600)"
   ]
  },
  {
   "cell_type": "code",
   "execution_count": 3,
   "metadata": {},
   "outputs": [
    {
     "name": "stdout",
     "output_type": "stream",
     "text": [
      "Chargeable amount:  719\n"
     ]
    }
   ],
   "source": [
    "print('Chargeable amount: ',days*23+hours)"
   ]
  }
 ],
 "metadata": {
  "colab": {
   "authorship_tag": "ABX9TyNF9iWvceXYw96v0z94pQ6h",
   "collapsed_sections": [],
   "provenance": []
  },
  "kernelspec": {
   "display_name": "Python 3 (ipykernel)",
   "language": "python",
   "name": "python3"
  },
  "language_info": {
   "codemirror_mode": {
    "name": "ipython",
    "version": 3
   },
   "file_extension": ".py",
   "mimetype": "text/x-python",
   "name": "python",
   "nbconvert_exporter": "python",
   "pygments_lexer": "ipython3",
   "version": "3.10.2"
  }
 },
 "nbformat": 4,
 "nbformat_minor": 1
}
