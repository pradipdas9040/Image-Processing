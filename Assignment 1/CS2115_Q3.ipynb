{
 "cells": [
  {
   "cell_type": "code",
   "execution_count": 1,
   "metadata": {},
   "outputs": [],
   "source": [
    "daysOfMonths = [ 31, 28, 31, 30, 31, 30, 31, 31, 30, 31, 30, 31]\n",
    "\n",
    "def isLeapYear(year):\n",
    "    return (year % 4 == 0 and year % 100 != 0) or year % 400 == 0\n",
    "\n",
    "def Count_Days(year1, month1, day1):\n",
    "    if month1 ==2:\n",
    "        if isLeapYear(year1):\n",
    "            if day1 < daysOfMonths[month1-1]+1:\n",
    "                return year1, month1, day1+1\n",
    "            else:\n",
    "                if month1 ==12:\n",
    "                    return year1+1,1,1\n",
    "                else:\n",
    "                    return year1, month1 +1 , 1\n",
    "        else: \n",
    "            if day1 < daysOfMonths[month1-1]:\n",
    "                return year1, month1, day1+1\n",
    "            else:\n",
    "                if month1 ==12:\n",
    "                    return year1+1,1,1\n",
    "                else:\n",
    "                    return year1, month1 +1 , 1\n",
    "    else:\n",
    "        if day1 < daysOfMonths[month1-1]:\n",
    "             return year1, month1, day1+1\n",
    "        else:\n",
    "            if month1 ==12:\n",
    "                return year1+1,1,1\n",
    "            else:\n",
    "                    return year1, month1 +1 , 1\n",
    "\n",
    "def daysBetweenDates(y1, m1, d1, y2, m2, d2):\n",
    "\n",
    "    if y1 > y2:\n",
    "        m1,m2 = m2,m1\n",
    "        y1,y2 = y2,y1\n",
    "        d1,d2 = d2,d1\n",
    "    days=0\n",
    "    while(not(m1==m2 and y1==y2 and d1==d2)):\n",
    "        y1,m1,d1 = Count_Days(y1,m1,d1)\n",
    "        days+=1\n",
    "    return days-1\n",
    "\n",
    "def hourBetweenTine(t1, t2):\n",
    "    return (t2-t1)%24"
   ]
  },
  {
   "cell_type": "code",
   "execution_count": 2,
   "metadata": {},
   "outputs": [
    {
     "name": "stdout",
     "output_type": "stream",
     "text": [
      "20-03-2022 20:15:36\n",
      "21-04-2022 02:14:37\n"
     ]
    }
   ],
   "source": [
    "date1, time1 =input().split()\n",
    "date2, time2 =input().split()"
   ]
  },
  {
   "cell_type": "code",
   "execution_count": 3,
   "metadata": {},
   "outputs": [],
   "source": [
    "day1, month1, yr1 = map(int,date1.split('-'))\n",
    "h1, m1, s1 = map(int, time1.split(':'))\n",
    "day2, month2, yr2 = map(int, date2.split('-'))\n",
    "h2, m2, s2 = map(int, time2.split(':'))"
   ]
  },
  {
   "cell_type": "code",
   "execution_count": 4,
   "metadata": {},
   "outputs": [
    {
     "name": "stdout",
     "output_type": "stream",
     "text": [
      "Chargeable amount: 719\n"
     ]
    }
   ],
   "source": [
    "print('Chargeable amount:', daysBetweenDates(yr1, month1, day1, yr2, month2, day2)*23 + hourBetweenTine(h1, h2))"
   ]
  },
  {
   "cell_type": "code",
   "execution_count": null,
   "metadata": {},
   "outputs": [],
   "source": []
  }
 ],
 "metadata": {
  "colab": {
   "authorship_tag": "ABX9TyNF9iWvceXYw96v0z94pQ6h",
   "collapsed_sections": [],
   "provenance": []
  },
  "kernelspec": {
   "display_name": "Python 3 (ipykernel)",
   "language": "python",
   "name": "python3"
  },
  "language_info": {
   "codemirror_mode": {
    "name": "ipython",
    "version": 3
   },
   "file_extension": ".py",
   "mimetype": "text/x-python",
   "name": "python",
   "nbconvert_exporter": "python",
   "pygments_lexer": "ipython3",
   "version": "3.10.2"
  }
 },
 "nbformat": 4,
 "nbformat_minor": 1
}
