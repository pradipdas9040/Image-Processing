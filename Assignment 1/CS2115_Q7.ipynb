{
 "cells": [
  {
   "cell_type": "code",
   "execution_count": 1,
   "id": "08cdde4d",
   "metadata": {},
   "outputs": [
    {
     "name": "stdout",
     "output_type": "stream",
     "text": [
      "Enter a array: -1 4 86 1 -4 -5 5 0 85 41 0 -45 0\n"
     ]
    }
   ],
   "source": [
    "L = list(map(int,input(\"Enter a array: \" ).split()))\n",
    "M = []"
   ]
  },
  {
   "cell_type": "code",
   "execution_count": 2,
   "id": "e594f7dc",
   "metadata": {},
   "outputs": [],
   "source": [
    "for i in range(len(L)):\n",
    "    if L[i]>0:\n",
    "        M.append(L[i])\n",
    "for i in range(len(L)):\n",
    "    if L[i]==0:\n",
    "        M.append(L[i])\n",
    "for i in range(len(L)):\n",
    "    if L[i]<0:\n",
    "        M.append(L[i])"
   ]
  },
  {
   "cell_type": "code",
   "execution_count": 3,
   "id": "9e3af9d1",
   "metadata": {},
   "outputs": [
    {
     "data": {
      "text/plain": [
       "[4, 86, 1, 5, 85, 41, 0, 0, 0, -1, -4, -5, -45]"
      ]
     },
     "execution_count": 3,
     "metadata": {},
     "output_type": "execute_result"
    }
   ],
   "source": [
    "M"
   ]
  },
  {
   "cell_type": "code",
   "execution_count": null,
   "id": "cfff83c6",
   "metadata": {},
   "outputs": [],
   "source": []
  }
 ],
 "metadata": {
  "kernelspec": {
   "display_name": "Python 3 (ipykernel)",
   "language": "python",
   "name": "python3"
  },
  "language_info": {
   "codemirror_mode": {
    "name": "ipython",
    "version": 3
   },
   "file_extension": ".py",
   "mimetype": "text/x-python",
   "name": "python",
   "nbconvert_exporter": "python",
   "pygments_lexer": "ipython3",
   "version": "3.10.2"
  }
 },
 "nbformat": 4,
 "nbformat_minor": 5
}
