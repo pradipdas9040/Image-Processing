{
 "cells": [
  {
   "cell_type": "code",
   "execution_count": 1,
   "id": "7f41de10",
   "metadata": {},
   "outputs": [],
   "source": [
    "def First(x):\n",
    "    return 10 * x\n",
    "def Second(x):\n",
    "    return First(100) + 15 * (x - 100)\n",
    "def Third(x):\n",
    "    return Second(150) + 22 * (x - 150)\n",
    "def Last(x):\n",
    "    return Third(200) + 30 * (x - 200)"
   ]
  },
  {
   "cell_type": "code",
   "execution_count": 2,
   "id": "a88293b0",
   "metadata": {},
   "outputs": [
    {
     "name": "stdout",
     "output_type": "stream",
     "text": [
      "Enter name: Binay Biswas\n",
      "Customer ID: 1574269101 \n",
      "Account Name: B.Binay \n",
      "Units Consumed: 175 \n",
      "Name                 Customer ID          Account Name         Units Consumed       Amount Chargeable   \n",
      "Binay Biswas         1574269101           B.Binay              175                  2300                \n"
     ]
    }
   ],
   "source": [
    "Name = input('Enter name: ')\n",
    "c_id = input('Customer ID: ')\n",
    "a_mane = input('Account Name: ')\n",
    "u = int(input('Units Consumed: '))\n",
    "\n",
    "if u <= 100:\n",
    "    Amount_Chargeable = First(u)\n",
    "elif u <= 150:\n",
    "    Amount_Chargeable = Second(u)\n",
    "elif u <= 200:\n",
    "    Amount_Chargeable = Third(u)\n",
    "else: Amount_Chargeable = Last(u)\n",
    "\n",
    "    \n",
    "print (\"{:<20} {:<20} {:<20} {:<20} {:<20}\".format('Name','Customer ID','Account Name','Units Consumed','Amount Chargeable'))\n",
    "print (\"{:<20} {:<20} {:<20} {:<20} {:<20}\".format(Name, c_id, a_mane, u, Amount_Chargeable))"
   ]
  },
  {
   "cell_type": "code",
   "execution_count": null,
   "id": "4a83ce1e",
   "metadata": {},
   "outputs": [],
   "source": []
  }
 ],
 "metadata": {
  "kernelspec": {
   "display_name": "Python 3 (ipykernel)",
   "language": "python",
   "name": "python3"
  },
  "language_info": {
   "codemirror_mode": {
    "name": "ipython",
    "version": 3
   },
   "file_extension": ".py",
   "mimetype": "text/x-python",
   "name": "python",
   "nbconvert_exporter": "python",
   "pygments_lexer": "ipython3",
   "version": "3.10.2"
  }
 },
 "nbformat": 4,
 "nbformat_minor": 5
}
