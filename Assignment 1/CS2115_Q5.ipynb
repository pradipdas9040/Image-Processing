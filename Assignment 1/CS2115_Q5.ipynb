{
 "cells": [
  {
   "cell_type": "code",
   "execution_count": 1,
   "id": "70ab1991",
   "metadata": {},
   "outputs": [
    {
     "name": "stdout",
     "output_type": "stream",
     "text": [
      "Enter dimension of matrix: 4\n",
      "Enter matrix: \n",
      "1 7 9 10\n",
      "13 12 7 15\n",
      "10 19 24 18\n",
      "14 22 35 21\n"
     ]
    }
   ],
   "source": [
    "n = int(input('Enter dimension of matrix: ')) \n",
    "a = []\n",
    "print('Enter matrix: ')\n",
    "for i in range(n):\n",
    "    a.append(list(map(int,input().split())))"
   ]
  },
  {
   "cell_type": "code",
   "execution_count": 2,
   "id": "1d021ee3",
   "metadata": {},
   "outputs": [],
   "source": [
    "def valley(a):\n",
    "    L = []\n",
    "    for i in range(1, len(a)-1):\n",
    "        for j in range(1, len(a[0])-1):\n",
    "            K = []\n",
    "            for k in range(len(a)):\n",
    "                K.append(a[k][j])\n",
    "            if a[i][j] == min(a[i]) and a[i][j] == min(K):\n",
    "                L.append((i,j))\n",
    "    if len(L) == 0:\n",
    "        print('There is no valley')\n",
    "    else:\n",
    "        print('Valley: ', end='')\n",
    "        for item in L:\n",
    "            print(item, end=' ')"
   ]
  },
  {
   "cell_type": "code",
   "execution_count": 3,
   "id": "03e6e65f",
   "metadata": {},
   "outputs": [
    {
     "name": "stdout",
     "output_type": "stream",
     "text": [
      "Valley: (1, 2) "
     ]
    }
   ],
   "source": [
    "valley(a)"
   ]
  },
  {
   "cell_type": "code",
   "execution_count": null,
   "id": "9f889422",
   "metadata": {},
   "outputs": [],
   "source": []
  }
 ],
 "metadata": {
  "kernelspec": {
   "display_name": "Python 3 (ipykernel)",
   "language": "python",
   "name": "python3"
  },
  "language_info": {
   "codemirror_mode": {
    "name": "ipython",
    "version": 3
   },
   "file_extension": ".py",
   "mimetype": "text/x-python",
   "name": "python",
   "nbconvert_exporter": "python",
   "pygments_lexer": "ipython3",
   "version": "3.10.2"
  }
 },
 "nbformat": 4,
 "nbformat_minor": 5
}
