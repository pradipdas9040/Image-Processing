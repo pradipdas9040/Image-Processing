{
 "cells": [
  {
   "cell_type": "code",
   "execution_count": 1,
   "id": "1875bcab",
   "metadata": {},
   "outputs": [
    {
     "name": "stdout",
     "output_type": "stream",
     "text": [
      "Enter number of sem: 2\n"
     ]
    }
   ],
   "source": [
    "n = int(input('Enter number of sem: '))"
   ]
  },
  {
   "cell_type": "code",
   "execution_count": 2,
   "id": "75205c27",
   "metadata": {},
   "outputs": [
    {
     "name": "stdout",
     "output_type": "stream",
     "text": [
      "\n",
      "Enter number of course in sem 1 : 5\n",
      "Enter course name and numbar: DM 77\n",
      "Enter course name and numbar: DFS 78\n",
      "Enter course name and numbar: CLab 87\n",
      "Enter course name and numbar: CN 98\n",
      "Enter course name and numbar: PSP 100\n",
      "\n",
      "Enter number of course in sem 2 : 5\n",
      "Enter course name and numbar: IR 64\n",
      "Enter course name and numbar: DAA 71\n",
      "Enter course name and numbar: ML1 74\n",
      "Enter course name and numbar: FDS 75\n",
      "Enter course name and numbar: DBMS 76\n"
     ]
    }
   ],
   "source": [
    "sem = {}\n",
    "L = []\n",
    "for i in range(n):\n",
    "    sem[i+1] ={}\n",
    "    print('\\nEnter number of course in sem',i+1,': ', end= '')\n",
    "    m = (int(input()))\n",
    "    for j in range(m):\n",
    "            name, number = input('Enter course name and numbar: ').split()\n",
    "            sem[i+1][name] = int(number)"
   ]
  },
  {
   "cell_type": "code",
   "execution_count": 3,
   "id": "99d0b7b6",
   "metadata": {},
   "outputs": [
    {
     "data": {
      "text/plain": [
       "{1: {'DM': 77, 'DFS': 78, 'CLab': 87, 'CN': 98, 'PSP': 100},\n",
       " 2: {'IR': 64, 'DAA': 71, 'ML1': 74, 'FDS': 75, 'DBMS': 76}}"
      ]
     },
     "execution_count": 3,
     "metadata": {},
     "output_type": "execute_result"
    }
   ],
   "source": [
    "sem"
   ]
  },
  {
   "cell_type": "code",
   "execution_count": 4,
   "id": "68766de4",
   "metadata": {},
   "outputs": [],
   "source": [
    "avg = {}\n",
    "for sem_n, sem_co in sem.items():\n",
    "    grd = 0\n",
    "    for co in sem_co:\n",
    "        grd += sem_co[co]\n",
    "    avg[sem_n] = grd/(len(sem_co))"
   ]
  },
  {
   "cell_type": "code",
   "execution_count": 5,
   "id": "93384fc3",
   "metadata": {},
   "outputs": [
    {
     "name": "stdout",
     "output_type": "stream",
     "text": [
      "Average grade in sem 1 : 88.0\n",
      "Average grade in sem 2 : 72.0\n"
     ]
    }
   ],
   "source": [
    "for k in avg.keys():\n",
    "    print('Average grade in sem', k, ':', avg[k])"
   ]
  },
  {
   "cell_type": "code",
   "execution_count": null,
   "id": "e34913e7",
   "metadata": {},
   "outputs": [],
   "source": []
  }
 ],
 "metadata": {
  "kernelspec": {
   "display_name": "Python 3 (ipykernel)",
   "language": "python",
   "name": "python3"
  },
  "language_info": {
   "codemirror_mode": {
    "name": "ipython",
    "version": 3
   },
   "file_extension": ".py",
   "mimetype": "text/x-python",
   "name": "python",
   "nbconvert_exporter": "python",
   "pygments_lexer": "ipython3",
   "version": "3.10.2"
  }
 },
 "nbformat": 4,
 "nbformat_minor": 5
}
