{
 "cells": [
  {
   "cell_type": "code",
   "execution_count": 1,
   "id": "8fd8f2ca",
   "metadata": {},
   "outputs": [
    {
     "name": "stdout",
     "output_type": "stream",
     "text": [
      "Enter number of element: 5\n",
      "Enter List: (56, 17, 59, 64, 83)\n"
     ]
    }
   ],
   "source": [
    "N = int(input(\"Enter number of element: \"))\n",
    "I = input(\"Enter List: \").strip('()')\n",
    "L = list(map(int, I.split(', ')))"
   ]
  },
  {
   "cell_type": "code",
   "execution_count": 4,
   "id": "64bcb372",
   "metadata": {},
   "outputs": [],
   "source": [
    "def isprime(num):\n",
    "    if num > 1:\n",
    "        for i in range(2, num//2+1):\n",
    "            if (num % i) == 0:\n",
    "                return 0\n",
    "                break\n",
    "        else:\n",
    "            return 1\n",
    "    else:\n",
    "        return 0\n",
    "    \n",
    "def sumprimes(L):\n",
    "    p_sum = 0\n",
    "    for i in range(len(L)):\n",
    "        if isprime(L[i]):\n",
    "            p_sum += L[i]\n",
    "    return p_sum"
   ]
  },
  {
   "cell_type": "code",
   "execution_count": 5,
   "id": "9e7ee85a",
   "metadata": {},
   "outputs": [
    {
     "name": "stdout",
     "output_type": "stream",
     "text": [
      "The sum of all the prime numbers in L:  159\n"
     ]
    }
   ],
   "source": [
    "print('The sum of all the prime numbers in L: ', sumprimes(L))"
   ]
  },
  {
   "cell_type": "code",
   "execution_count": null,
   "id": "a06dc198",
   "metadata": {},
   "outputs": [],
   "source": []
  }
 ],
 "metadata": {
  "kernelspec": {
   "display_name": "Python 3 (ipykernel)",
   "language": "python",
   "name": "python3"
  },
  "language_info": {
   "codemirror_mode": {
    "name": "ipython",
    "version": 3
   },
   "file_extension": ".py",
   "mimetype": "text/x-python",
   "name": "python",
   "nbconvert_exporter": "python",
   "pygments_lexer": "ipython3",
   "version": "3.10.2"
  }
 },
 "nbformat": 4,
 "nbformat_minor": 5
}
