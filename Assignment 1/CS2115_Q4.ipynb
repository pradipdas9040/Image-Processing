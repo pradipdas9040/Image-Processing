{
 "cells": [
  {
   "cell_type": "code",
   "execution_count": 1,
   "id": "3216aaa7",
   "metadata": {},
   "outputs": [
    {
     "name": "stdout",
     "output_type": "stream",
     "text": [
      "28, 35, 46, 59, 63, 63, 63, 55, 5\n"
     ]
    }
   ],
   "source": [
    "L = list(map(int, input().split(',')))"
   ]
  },
  {
   "cell_type": "code",
   "execution_count": 2,
   "id": "80f9510a",
   "metadata": {},
   "outputs": [],
   "source": [
    "A = []\n",
    "for i in range(1,len(L)):\n",
    "    if (L[i-1]-L[i]<0):\n",
    "        A.append(-1)\n",
    "    elif (L[i-1]-L[i]==0):\n",
    "        A.append(0)\n",
    "    else: A.append(1)"
   ]
  },
  {
   "cell_type": "code",
   "execution_count": 3,
   "id": "368cf5d6",
   "metadata": {},
   "outputs": [],
   "source": [
    "B = []\n",
    "for i in range(1,len(A)):\n",
    "    if (A[i-1] != A[i]):\n",
    "        B.append(1)"
   ]
  },
  {
   "cell_type": "code",
   "execution_count": 4,
   "id": "ba5b3f44",
   "metadata": {},
   "outputs": [
    {
     "name": "stdout",
     "output_type": "stream",
     "text": [
      "Plateau\n"
     ]
    }
   ],
   "source": [
    "if len(B) == 2 and len(set(A)) == 3 and A[0]<0:\n",
    "    print('Plateau')\n",
    "elif len(B) == 2 and len(set(A)) == 3 and A[0]>0:\n",
    "    print('Basin')\n",
    "else: print('Not Defined')"
   ]
  },
  {
   "cell_type": "code",
   "execution_count": null,
   "id": "49761eed",
   "metadata": {},
   "outputs": [],
   "source": []
  }
 ],
 "metadata": {
  "kernelspec": {
   "display_name": "Python 3 (ipykernel)",
   "language": "python",
   "name": "python3"
  },
  "language_info": {
   "codemirror_mode": {
    "name": "ipython",
    "version": 3
   },
   "file_extension": ".py",
   "mimetype": "text/x-python",
   "name": "python",
   "nbconvert_exporter": "python",
   "pygments_lexer": "ipython3",
   "version": "3.10.2"
  }
 },
 "nbformat": 4,
 "nbformat_minor": 5
}
